{
 "cells": [
  {
   "cell_type": "markdown",
   "metadata": {},
   "source": [
    "# Imports"
   ]
  },
  {
   "cell_type": "code",
   "execution_count": 1,
   "metadata": {},
   "outputs": [],
   "source": [
    "%load_ext autoreload\n",
    "%autoreload 2"
   ]
  },
  {
   "cell_type": "code",
   "execution_count": 2,
   "metadata": {},
   "outputs": [],
   "source": [
    "import sys\n",
    "\n",
    "sys.path.append(\"..\")\n",
    "\n",
    "from torch.utils.data import DataLoader\n",
    "from torchvision.datasets import CIFAR10\n",
    "import numpy as np\n",
    "import matplotlib.pyplot as plt\n",
    "\n",
    "from helpers.dataset import ContrastiveCIFAR10\n",
    "from helpers.config import TrainingConfig, ResNetConfig, SSLConfig\n",
    "from helpers.trainer import train\n",
    "from models.encoder import ResNet\n",
    "from models.ssl import SSLModel\n",
    "from models.loss import NTXent, DCL, VICReg"
   ]
  },
  {
   "cell_type": "markdown",
   "metadata": {},
   "source": [
    "# Load data"
   ]
  },
  {
   "cell_type": "code",
   "execution_count": 3,
   "metadata": {},
   "outputs": [
    {
     "name": "stdout",
     "output_type": "stream",
     "text": [
      "Files already downloaded and verified\n",
      "TrainingConfig(device=device(type='cuda'), batch_size=16, num_workers=4, learning_rate=0.002, weight_decay=1e-06, max_epoch=100)\n",
      "\n",
      "Dataset ContrastiveCIFAR10\n",
      "    Number of datapoints: 50000\n",
      "    Root location: ../data/cifar10/\n",
      "    Split: Train\n",
      "    StandardTransform\n",
      "Transform: Compose(\n",
      "                 ToImage()\n",
      "                 ToDtype(scale=True)\n",
      "                 RandomResizedCrop(size=(32, 32), scale=(0.3, 1.0), ratio=(0.75, 1.3333333333333333), interpolation=InterpolationMode.BICUBIC, antialias=True)\n",
      "                 RandomHorizontalFlip(p=0.5)\n",
      "                 RandomApply(    ColorJitter(brightness=(0.6, 1.4), contrast=(0.9, 1.1), hue=(-0.1, 0.1)))\n",
      "                 RandomGrayscale(p=0.1)\n",
      "                 ToDtype(scale=True)\n",
      "                 Normalize(mean=[0.5], std=[0.5], inplace=False)\n",
      "           )\n",
      "\n",
      "Dataset CIFAR10\n",
      "    Number of datapoints: 10000\n",
      "    Root location: ../data/cifar10/\n",
      "    Split: Test\n"
     ]
    }
   ],
   "source": [
    "train_cfg = TrainingConfig()\n",
    "\n",
    "ds_train = ContrastiveCIFAR10(\"../data/cifar10/\", train=True, download=True)\n",
    "dl_train = DataLoader(\n",
    "    ds_train,\n",
    "    batch_size=train_cfg.batch_size,\n",
    "    num_workers=train_cfg.num_workers,\n",
    "    pin_memory=True,\n",
    "    shuffle=True,\n",
    ")\n",
    "\n",
    "ds_test = CIFAR10(\"../data/cifar10/\", train=False)\n",
    "\n",
    "print(train_cfg, end=\"\\n\\n\")\n",
    "print(ds_train, end=\"\\n\\n\")\n",
    "print(ds_test)"
   ]
  },
  {
   "cell_type": "code",
   "execution_count": 4,
   "metadata": {},
   "outputs": [
    {
     "name": "stdout",
     "output_type": "stream",
     "text": [
      "torch.Size([3, 32, 32])\n"
     ]
    },
    {
     "data": {
      "image/png": "[encoded data removed]",
      "text/plain": [
       "<Figure size 640x480 with 2 Axes>"
      ]
     },
     "metadata": {},
     "output_type": "display_data"
    }
   ],
   "source": [
    "def imshow(*imgs):\n",
    "    _, axes = plt.subplots(1, len(imgs))\n",
    "\n",
    "    for i, img in enumerate(imgs):\n",
    "        img = img / 2 + 0.5  # unnormalize\n",
    "        axes[i].imshow(np.transpose(img.numpy(), (1, 2, 0)))\n",
    "        axes[i].set_axis_off()\n",
    "\n",
    "    plt.show()\n",
    "\n",
    "\n",
    "idx = np.random.choice(range(len(ds_train)))\n",
    "x_1, x_2 = ds_train[idx]\n",
    "\n",
    "print(x_1.shape)\n",
    "imshow(x_1, x_2)"
   ]
  },
  {
   "cell_type": "markdown",
   "metadata": {},
   "source": [
    "# Train model"
   ]
  },
  {
   "cell_type": "code",
   "execution_count": 5,
   "metadata": {},
   "outputs": [
    {
     "name": "stdout",
     "output_type": "stream",
     "text": [
      "ResNetConfig(in_channels=3, num_stage=3, num_block_per_stage=3, out_channels_first=64, kernel_size_first=7)\n",
      "\n",
      "SSLConfig(dim_embedding=256, num_hidden_proj=2, dim_hidden_proj=None)\n",
      "\n",
      "4,727,616 learnable params\n",
      "4,727,616 total params\n",
      "SSLModel(\n",
      "  (encoder): ResNet(\n",
      "    (conv1): Conv2d(3, 64, kernel_size=(7, 7), stride=(2, 2), padding=(3, 3), bias=False)\n",
      "    (bn): BatchNorm2d(64, eps=1e-05, momentum=0.1, affine=True, track_running_stats=True)\n",
      "    (max_pool): MaxPool2d(kernel_size=3, stride=2, padding=1, dilation=1, ceil_mode=False)\n",
      "    (residual_blocks): Sequential(\n",
      "      (0): ResidualBlock(\n",
      "        (_layers): Sequential(\n",
      "          (0): Conv2d(64, 64, kernel_size=(3, 3), stride=(1, 1), padding=(1, 1), bias=False)\n",
      "          (1): BatchNorm2d(64, eps=1e-05, momentum=0.1, affine=True, track_running_stats=True)\n",
      "          (2): ReLU(inplace=True)\n",
      "          (3): Conv2d(64, 64, kernel_size=(3, 3), stride=(1, 1), padding=(1, 1), bias=False)\n",
      "          (4): BatchNorm2d(64, eps=1e-05, momentum=0.1, affine=True, track_running_stats=True)\n",
      "        )\n",
      "        (shortcut): Identity()\n",
      "      )\n",
      "      (1): ResidualBlock(\n",
      "        (_layers): Sequential(\n",
      "          (0): Conv2d(64, 64, kernel_size=(3, 3), stride=(1, 1), padding=(1, 1), bias=False)\n",
      "          (1): BatchNorm2d(64, eps=1e-05, momentum=0.1, affine=True, track_running_stats=True)\n",
      "          (2): ReLU(inplace=True)\n",
      "          (3): Conv2d(64, 64, kernel_size=(3, 3), stride=(1, 1), padding=(1, 1), bias=False)\n",
      "          (4): BatchNorm2d(64, eps=1e-05, momentum=0.1, affine=True, track_running_stats=True)\n",
      "        )\n",
      "        (shortcut): Identity()\n",
      "      )\n",
      "      (2): ResidualBlock(\n",
      "        (_layers): Sequential(\n",
      "          (0): Conv2d(64, 64, kernel_size=(3, 3), stride=(1, 1), padding=(1, 1), bias=False)\n",
      "          (1): BatchNorm2d(64, eps=1e-05, momentum=0.1, affine=True, track_running_stats=True)\n",
      "          (2): ReLU(inplace=True)\n",
      "          (3): Conv2d(64, 64, kernel_size=(3, 3), stride=(1, 1), padding=(1, 1), bias=False)\n",
      "          (4): BatchNorm2d(64, eps=1e-05, momentum=0.1, affine=True, track_running_stats=True)\n",
      "        )\n",
      "        (shortcut): Identity()\n",
      "      )\n",
      "      (3): ResidualBlock(\n",
      "        (_layers): Sequential(\n",
      "          (0): Conv2d(64, 128, kernel_size=(3, 3), stride=(1, 1), padding=(1, 1), bias=False)\n",
      "          (1): BatchNorm2d(128, eps=1e-05, momentum=0.1, affine=True, track_running_stats=True)\n",
      "          (2): ReLU(inplace=True)\n",
      "          (3): Conv2d(128, 128, kernel_size=(3, 3), stride=(1, 1), padding=(1, 1), bias=False)\n",
      "          (4): BatchNorm2d(128, eps=1e-05, momentum=0.1, affine=True, track_running_stats=True)\n",
      "        )\n",
      "        (shortcut): ShortcutProjection(\n",
      "          (conv1): Conv2d(64, 128, kernel_size=(1, 1), stride=(1, 1), bias=False)\n",
      "          (bn): BatchNorm2d(128, eps=1e-05, momentum=0.1, affine=True, track_running_stats=True)\n",
      "        )\n",
      "      )\n",
      "      (4): ResidualBlock(\n",
      "        (_layers): Sequential(\n",
      "          (0): Conv2d(128, 128, kernel_size=(3, 3), stride=(1, 1), padding=(1, 1), bias=False)\n",
      "          (1): BatchNorm2d(128, eps=1e-05, momentum=0.1, affine=True, track_running_stats=True)\n",
      "          (2): ReLU(inplace=True)\n",
      "          (3): Conv2d(128, 128, kernel_size=(3, 3), stride=(1, 1), padding=(1, 1), bias=False)\n",
      "          (4): BatchNorm2d(128, eps=1e-05, momentum=0.1, affine=True, track_running_stats=True)\n",
      "        )\n",
      "        (shortcut): Identity()\n",
      "      )\n",
      "      (5): ResidualBlock(\n",
      "        (_layers): Sequential(\n",
      "          (0): Conv2d(128, 128, kernel_size=(3, 3), stride=(1, 1), padding=(1, 1), bias=False)\n",
      "          (1): BatchNorm2d(128, eps=1e-05, momentum=0.1, affine=True, track_running_stats=True)\n",
      "          (2): ReLU(inplace=True)\n",
      "          (3): Conv2d(128, 128, kernel_size=(3, 3), stride=(1, 1), padding=(1, 1), bias=False)\n",
      "          (4): BatchNorm2d(128, eps=1e-05, momentum=0.1, affine=True, track_running_stats=True)\n",
      "        )\n",
      "        (shortcut): Identity()\n",
      "      )\n",
      "      (6): ResidualBlock(\n",
      "        (_layers): Sequential(\n",
      "          (0): Conv2d(128, 256, kernel_size=(3, 3), stride=(1, 1), padding=(1, 1), bias=False)\n",
      "          (1): BatchNorm2d(256, eps=1e-05, momentum=0.1, affine=True, track_running_stats=True)\n",
      "          (2): ReLU(inplace=True)\n",
      "          (3): Conv2d(256, 256, kernel_size=(3, 3), stride=(1, 1), padding=(1, 1), bias=False)\n",
      "          (4): BatchNorm2d(256, eps=1e-05, momentum=0.1, affine=True, track_running_stats=True)\n",
      "        )\n",
      "        (shortcut): ShortcutProjection(\n",
      "          (conv1): Conv2d(128, 256, kernel_size=(1, 1), stride=(1, 1), bias=False)\n",
      "          (bn): BatchNorm2d(256, eps=1e-05, momentum=0.1, affine=True, track_running_stats=True)\n",
      "        )\n",
      "      )\n",
      "      (7): ResidualBlock(\n",
      "        (_layers): Sequential(\n",
      "          (0): Conv2d(256, 256, kernel_size=(3, 3), stride=(1, 1), padding=(1, 1), bias=False)\n",
      "          (1): BatchNorm2d(256, eps=1e-05, momentum=0.1, affine=True, track_running_stats=True)\n",
      "          (2): ReLU(inplace=True)\n",
      "          (3): Conv2d(256, 256, kernel_size=(3, 3), stride=(1, 1), padding=(1, 1), bias=False)\n",
      "          (4): BatchNorm2d(256, eps=1e-05, momentum=0.1, affine=True, track_running_stats=True)\n",
      "        )\n",
      "        (shortcut): Identity()\n",
      "      )\n",
      "      (8): ResidualBlock(\n",
      "        (_layers): Sequential(\n",
      "          (0): Conv2d(256, 256, kernel_size=(3, 3), stride=(1, 1), padding=(1, 1), bias=False)\n",
      "          (1): BatchNorm2d(256, eps=1e-05, momentum=0.1, affine=True, track_running_stats=True)\n",
      "          (2): ReLU(inplace=True)\n",
      "          (3): Conv2d(256, 256, kernel_size=(3, 3), stride=(1, 1), padding=(1, 1), bias=False)\n",
      "          (4): BatchNorm2d(256, eps=1e-05, momentum=0.1, affine=True, track_running_stats=True)\n",
      "        )\n",
      "        (shortcut): Identity()\n",
      "      )\n",
      "    )\n",
      "    (avgpool): AdaptiveAvgPool2d(output_size=(1, 1))\n",
      "  )\n",
      "  (projector): MLP(\n",
      "    (_layers): Sequential(\n",
      "      (0): Linear(in_features=256, out_features=512, bias=True)\n",
      "      (1): BatchNorm1d(512, eps=1e-05, momentum=0.1, affine=True, track_running_stats=True)\n",
      "      (2): ReLU(inplace=True)\n",
      "      (3): Linear(in_features=512, out_features=512, bias=False)\n",
      "    )\n",
      "  )\n",
      ")\n"
     ]
    }
   ],
   "source": [
    "resnet_cfg = ResNetConfig(in_channels=3, num_stage=3, num_block_per_stage=3)\n",
    "ssl_cfg = SSLConfig(dim_embedding=64 * 2 ** (3 - 1), num_hidden_proj=2)\n",
    "\n",
    "encoder = ResNet(**resnet_cfg.__dict__)\n",
    "model = SSLModel(encoder, **ssl_cfg.__dict__)\n",
    "\n",
    "print(resnet_cfg, end=\"\\n\\n\")\n",
    "print(ssl_cfg, end=\"\\n\\n\")\n",
    "\n",
    "print(f\"{sum(p.numel() for p in model.parameters() if p.requires_grad):,d} learnable params\")\n",
    "print(f\"{sum(p.numel() for p in model.parameters()):,d} total params\")\n",
    "print(model)"
   ]
  },
  {
   "cell_type": "code",
   "execution_count": 6,
   "metadata": {},
   "outputs": [
    {
     "name": "stdout",
     "output_type": "stream",
     "text": [
      "Epoch 1 - step 3125/3125 - lr: 0.0110 -  loss: 23.8763\n",
      "Epoch 2 - step 3125/3125 - lr: 0.0020 -  loss: 23.8657\n"
     ]
    }
   ],
   "source": [
    "loss_func = VICReg(normalize=True)\n",
    "# loss_func = DCL()\n",
    "# loss_func = NTXent()\n",
    "\n",
    "loss_history = train(\n",
    "    model,\n",
    "    loss_func=loss_func,\n",
    "    dl_train=dl_train,\n",
    "    lr=train_cfg.learning_rate,\n",
    "    max_epoch=2,\n",
    "    device=train_cfg.device,\n",
    "    weight_decay=train_cfg.weight_decay\n",
    ")"
   ]
  },
  {
   "cell_type": "code",
   "execution_count": null,
   "metadata": {},
   "outputs": [],
   "source": []
  }
 ],
 "metadata": {
  "kernelspec": {
   "display_name": "image-embedding",
   "language": "python",
   "name": "python3"
  },
  "language_info": {
   "codemirror_mode": {
    "name": "ipython",
    "version": 3
   },
   "file_extension": ".py",
   "mimetype": "text/x-python",
   "name": "python",
   "nbconvert_exporter": "python",
   "pygments_lexer": "ipython3",
   "version": "3.11.6"
  }
 },
 "nbformat": 4,
 "nbformat_minor": 2
}
